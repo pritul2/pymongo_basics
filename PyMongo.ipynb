{
 "cells": [
  {
   "cell_type": "code",
   "execution_count": 1,
   "metadata": {},
   "outputs": [],
   "source": [
    "import pymongo"
   ]
  },
  {
   "cell_type": "markdown",
   "metadata": {},
   "source": [
    "In terminal <br/>\n",
    "brew services start mongodb-community@4.2 -----> To start MongoDB server<br/>\n",
    "brew services stop mongodb-community@4.2 ------> To stop MongoDB server<br/>"
   ]
  },
  {
   "cell_type": "markdown",
   "metadata": {},
   "source": [
    "## MongoClient\n",
    "* Making a connection with mongo client"
   ]
  },
  {
   "cell_type": "code",
   "execution_count": 2,
   "metadata": {},
   "outputs": [
    {
     "data": {
      "text/plain": [
       "MongoClient(host=['localhost:27017'], document_class=dict, tz_aware=False, connect=True)"
      ]
     },
     "execution_count": 2,
     "metadata": {},
     "output_type": "execute_result"
    }
   ],
   "source": [
    "from pymongo import MongoClient\n",
    "client = MongoClient('localhost') #If no argument are given than it will take the default host and port#\n",
    "client"
   ]
  },
  {
   "cell_type": "markdown",
   "metadata": {},
   "source": [
    "## Creating database"
   ]
  },
  {
   "cell_type": "code",
   "execution_count": 3,
   "metadata": {},
   "outputs": [
    {
     "data": {
      "text/plain": [
       "Database(MongoClient(host=['localhost:27017'], document_class=dict, tz_aware=False, connect=True), 'database')"
      ]
     },
     "execution_count": 3,
     "metadata": {},
     "output_type": "execute_result"
    }
   ],
   "source": [
    "db = client['database']\n",
    "db"
   ]
  },
  {
   "cell_type": "markdown",
   "metadata": {},
   "source": [
    "## Creating Collection (Table)\n",
    "* A collection is analogous to a table of an RDBMS.<br/>\n",
    "* A collection may store documents those who are not same in structure.<br/>\n",
    "* This is possible because MongoDB is a Schema-free database.<br/>\n",
    "* In a relational database like MySQL, a schema defines the organization / structure of data in a database."
   ]
  },
  {
   "cell_type": "code",
   "execution_count": 4,
   "metadata": {},
   "outputs": [
    {
     "data": {
      "text/plain": [
       "Collection(Database(MongoClient(host=['localhost:27017'], document_class=dict, tz_aware=False, connect=True), 'database'), 'Vehicle_Count')"
      ]
     },
     "execution_count": 4,
     "metadata": {},
     "output_type": "execute_result"
    }
   ],
   "source": [
    "cnt = db['Vehicle_Count']\n",
    "cnt"
   ]
  },
  {
   "cell_type": "markdown",
   "metadata": {},
   "source": [
    "* <p style=\"color:red\" font=20%> All the operations in MongoDB are created Lazily i.e the server is not created until any value is inserted </p>"
   ]
  },
  {
   "cell_type": "markdown",
   "metadata": {},
   "source": [
    "## Documents\n",
    "* They are based on the JSON and donot required any row or column or datatypes\n",
    "* In Mongo the dictionary is used to represent this JSON type documents\n",
    "* The format used by the MongoDB is called as BSON"
   ]
  },
  {
   "cell_type": "code",
   "execution_count": 5,
   "metadata": {},
   "outputs": [],
   "source": [
    "detected_vehicles = {\"car\":4 , \"bus\":0 ,\"motorcycle\":0, \"truck\":0}"
   ]
  },
  {
   "cell_type": "code",
   "execution_count": 6,
   "metadata": {},
   "outputs": [
    {
     "data": {
      "text/plain": [
       "Collection(Database(MongoClient(host=['localhost:27017'], document_class=dict, tz_aware=False, connect=True), 'database'), 'Vehicle_Count')"
      ]
     },
     "execution_count": 6,
     "metadata": {},
     "output_type": "execute_result"
    }
   ],
   "source": [
    "cnt.insert_one(detected_vehicles)\n",
    "cnt"
   ]
  },
  {
   "cell_type": "markdown",
   "metadata": {},
   "source": [
    "## Displaying the entered data\n",
    "<i> Note:- </i><br/>\n",
    "When a document is inserted a special key, \"_id\", is automatically added if the document doesn’t already contain an \"_id\" key. The value of \"_id\" must be unique across the collection. "
   ]
  },
  {
   "cell_type": "code",
   "execution_count": 7,
   "metadata": {},
   "outputs": [
    {
     "data": {
      "text/plain": [
       "{'_id': ObjectId('5eb8f9c82f36aa17bae27f03'),\n",
       " 'car': 4,\n",
       " 'bus': 0,\n",
       " 'motorcycle': 0,\n",
       " 'truck': 0}"
      ]
     },
     "execution_count": 7,
     "metadata": {},
     "output_type": "execute_result"
    }
   ],
   "source": [
    "cnt.find_one()"
   ]
  },
  {
   "cell_type": "markdown",
   "metadata": {},
   "source": [
    "* Finding the particular entry from the given value and key ID"
   ]
  },
  {
   "cell_type": "code",
   "execution_count": 8,
   "metadata": {},
   "outputs": [
    {
     "data": {
      "text/plain": [
       "{'_id': ObjectId('5eb8f9c82f36aa17bae27f03'),\n",
       " 'car': 4,\n",
       " 'bus': 0,\n",
       " 'motorcycle': 0,\n",
       " 'truck': 0}"
      ]
     },
     "execution_count": 8,
     "metadata": {},
     "output_type": "execute_result"
    }
   ],
   "source": [
    "cnt.find_one({'car':4})"
   ]
  },
  {
   "cell_type": "markdown",
   "metadata": {},
   "source": [
    "<b>\n",
    "    For fetching the objectID from the string we need to convert the string to the ObjectID.<br/>\n",
    "    This can be done by\n",
    "</b>"
   ]
  },
  {
   "cell_type": "code",
   "execution_count": 9,
   "metadata": {},
   "outputs": [],
   "source": [
    "from bson.objectid import ObjectId"
   ]
  },
  {
   "cell_type": "code",
   "execution_count": 10,
   "metadata": {},
   "outputs": [
    {
     "data": {
      "text/plain": [
       "{'_id': ObjectId('5eb8f9c82f36aa17bae27f03'),\n",
       " 'car': 4,\n",
       " 'bus': 0,\n",
       " 'motorcycle': 0,\n",
       " 'truck': 0}"
      ]
     },
     "execution_count": 10,
     "metadata": {},
     "output_type": "execute_result"
    }
   ],
   "source": [
    "x = \"5eb8f9c82f36aa17bae27f03\"\n",
    "obj_id = ObjectId(x)\n",
    "cnt.find_one({'_id':obj_id})"
   ]
  },
  {
   "cell_type": "markdown",
   "metadata": {},
   "source": [
    "## Bulk insertion"
   ]
  },
  {
   "cell_type": "code",
   "execution_count": 11,
   "metadata": {},
   "outputs": [
    {
     "data": {
      "text/plain": [
       "<pymongo.results.InsertManyResult at 0x106bdb910>"
      ]
     },
     "execution_count": 11,
     "metadata": {},
     "output_type": "execute_result"
    }
   ],
   "source": [
    "#Creating the table in database db#\n",
    "analysis = db['analysis']\n",
    "#Document:- Data to be inserted\n",
    "_list = [{'date':'2020-05-11', 'time':'09:44:03.730630', 'type':'car'},\n",
    "         {'date':'2020-05-11', 'time':'09:44:20.197689', 'type':'car'},\n",
    "         {'date':'2020-05-11', 'time':'09:44:39.525202', 'type':'truck'}\n",
    "        ]\n",
    "analysis.insert_many(_list)"
   ]
  },
  {
   "cell_type": "code",
   "execution_count": 12,
   "metadata": {},
   "outputs": [
    {
     "name": "stdout",
     "output_type": "stream",
     "text": [
      "{'_id': ObjectId('5eb914cd2f36aa17bae27f04'), 'date': '2020-05-11', 'time': '09:44:03.730630', 'type': 'car'}\n",
      "<class 'dict'>\n",
      "{'_id': ObjectId('5eb914cd2f36aa17bae27f05'), 'date': '2020-05-11', 'time': '09:44:20.197689', 'type': 'car'}\n",
      "<class 'dict'>\n",
      "{'_id': ObjectId('5eb914cd2f36aa17bae27f06'), 'date': '2020-05-11', 'time': '09:44:39.525202', 'type': 'truck'}\n",
      "<class 'dict'>\n"
     ]
    }
   ],
   "source": [
    "#Displaying\n",
    "for inserted in analysis.find():\n",
    "    print(inserted)\n",
    "    print(type(inserted))"
   ]
  },
  {
   "cell_type": "markdown",
   "metadata": {},
   "source": [
    "## Multiple Queries\n",
    "* <p style=\"color:red\"> Note:- We can use regular expressions also for querying </p>"
   ]
  },
  {
   "cell_type": "code",
   "execution_count": 12,
   "metadata": {},
   "outputs": [
    {
     "name": "stdout",
     "output_type": "stream",
     "text": [
      "{'_id': ObjectId('5eb914cd2f36aa17bae27f04'), 'date': '2020-05-11', 'time': '09:44:03.730630', 'type': 'car'}\n",
      "{'_id': ObjectId('5eb914cd2f36aa17bae27f05'), 'date': '2020-05-11', 'time': '09:44:20.197689', 'type': 'car'}\n"
     ]
    }
   ],
   "source": [
    "query = {\"type\":\"car\"}\n",
    "find_q = analysis.find(query)\n",
    "for v in find_q:\n",
    "    print(v)"
   ]
  },
  {
   "cell_type": "markdown",
   "metadata": {},
   "source": [
    "## count_documents()\n",
    "* It gives the number of returned documents which matches with the query"
   ]
  },
  {
   "cell_type": "code",
   "execution_count": 13,
   "metadata": {},
   "outputs": [
    {
     "name": "stderr",
     "output_type": "stream",
     "text": [
      "/opt/anaconda3/lib/python3.7/site-packages/ipykernel_launcher.py:2: DeprecationWarning: count is deprecated. Use estimated_document_count or count_documents instead. Please note that $where must be replaced by $expr, $near must be replaced by $geoWithin with $center, and $nearSphere must be replaced by $geoWithin with $centerSphere\n",
      "  \n"
     ]
    },
    {
     "data": {
      "text/plain": [
       "2"
      ]
     },
     "execution_count": 14,
     "metadata": {},
     "output_type": "execute_result"
    }
   ],
   "source": [
    "query = {\"type\":\"car\"}\n",
    "analysis.count(query)"
   ]
  },
  {
   "cell_type": "code",
   "execution_count": 15,
   "metadata": {},
   "outputs": [
    {
     "name": "stderr",
     "output_type": "stream",
     "text": [
      "/opt/anaconda3/lib/python3.7/site-packages/ipykernel_launcher.py:1: DeprecationWarning: count is deprecated. Use estimated_document_count or count_documents instead. Please note that $where must be replaced by $expr, $near must be replaced by $geoWithin with $center, and $nearSphere must be replaced by $geoWithin with $centerSphere\n",
      "  \"\"\"Entry point for launching an IPython kernel.\n"
     ]
    },
    {
     "data": {
      "text/plain": [
       "3"
      ]
     },
     "execution_count": 16,
     "metadata": {},
     "output_type": "execute_result"
    }
   ],
   "source": [
    "analysis.count() #It gives total documents present in collection"
   ]
  },
  {
   "cell_type": "markdown",
   "metadata": {},
   "source": [
    "## Sort()"
   ]
  },
  {
   "cell_type": "code",
   "execution_count": 17,
   "metadata": {},
   "outputs": [
    {
     "name": "stdout",
     "output_type": "stream",
     "text": [
      "{'_id': ObjectId('5eb914cd2f36aa17bae27f06'), 'date': '2020-05-11', 'time': '09:44:39.525202', 'type': 'truck'}\n",
      "{'_id': ObjectId('5eb914cd2f36aa17bae27f05'), 'date': '2020-05-11', 'time': '09:44:20.197689', 'type': 'car'}\n",
      "{'_id': ObjectId('5eb914cd2f36aa17bae27f04'), 'date': '2020-05-11', 'time': '09:44:03.730630', 'type': 'car'}\n"
     ]
    }
   ],
   "source": [
    "x = analysis.find().sort(\"time\",-1)\n",
    "for i in x:\n",
    "    print(i)"
   ]
  },
  {
   "cell_type": "markdown",
   "metadata": {},
   "source": [
    "## Unique key"
   ]
  },
  {
   "cell_type": "code",
   "execution_count": 18,
   "metadata": {},
   "outputs": [
    {
     "name": "stdout",
     "output_type": "stream",
     "text": [
      "{'_id': ObjectId('5eb93f202f36aa17bae27f0d'), 'customer_ID': 1, 'car': 4, 'bus': 0, 'motorcycle': 0, 'truck': 0}\n",
      "{'_id': ObjectId('5eb93f202f36aa17bae27f0e'), 'customer_ID': 2, 'car': 2, 'bus': 1, 'motorcycle': 0, 'truck': 0}\n"
     ]
    }
   ],
   "source": [
    "#Creating table analysis_2#\n",
    "analysis_2 = db['analysis_2']\n",
    "\n",
    "#Creating the Unique Key as Customer ID#\n",
    "analysis_2.create_index([('customer_ID', pymongo.ASCENDING)],unique=True)\n",
    "\n",
    "#Document#\n",
    "_list = [{\"customer_ID\":1, \"car\":4 , \"bus\":0 ,\"motorcycle\":0, \"truck\":0},\n",
    "{\"customer_ID\":2, \"car\":2 , \"bus\":1 ,\"motorcycle\":0, \"truck\":0}]\n",
    "\n",
    "#Insert Query#\n",
    "result = analysis_2.insert_many(_list)\n",
    "\n",
    "#Select Query#\n",
    "for i in analysis_2.find():\n",
    "    print(i)"
   ]
  },
  {
   "cell_type": "markdown",
   "metadata": {},
   "source": [
    "## Updating the entry"
   ]
  },
  {
   "cell_type": "code",
   "execution_count": 19,
   "metadata": {},
   "outputs": [
    {
     "name": "stdout",
     "output_type": "stream",
     "text": [
      "{'_id': ObjectId('5eb93f202f36aa17bae27f0d'), 'customer_ID': 1, 'car': 4, 'bus': 0, 'motorcycle': 0, 'truck': 0}\n",
      "{'_id': ObjectId('5eb93f202f36aa17bae27f0e'), 'customer_ID': 2, 'car': 2, 'bus': 1, 'motorcycle': 0, 'truck': 0}\n",
      "\n",
      "\n",
      "\n",
      "2\n"
     ]
    }
   ],
   "source": [
    "for i in analysis_2.find():\n",
    "    print(i)\n",
    "\n",
    "# Fetching the current value for the available customer ID#\n",
    "print(\"\\n\\n\")\n",
    "x = analysis_2.find({'customer_ID': 2})\n",
    "\n",
    "#Itterating must required for queries#\n",
    "for i in x:\n",
    "    car_cnt = i.get('car')\n",
    "    \n",
    "#Obtained the value for car count#\n",
    "print(car_cnt)"
   ]
  },
  {
   "cell_type": "code",
   "execution_count": 20,
   "metadata": {},
   "outputs": [
    {
     "data": {
      "text/plain": [
       "<pymongo.results.UpdateResult at 0x106d840f0>"
      ]
     },
     "execution_count": 21,
     "metadata": {},
     "output_type": "execute_result"
    }
   ],
   "source": [
    "#arg1 ---> find() query\n",
    "#arg2 -----> update value\n",
    "car_cnt = 5\n",
    "analysis_2.update_one({'customer_ID': 2},{'$set':{'car':car_cnt}})"
   ]
  },
  {
   "cell_type": "code",
   "execution_count": 22,
   "metadata": {},
   "outputs": [
    {
     "name": "stdout",
     "output_type": "stream",
     "text": [
      "{'_id': ObjectId('5eb93f202f36aa17bae27f0e'), 'customer_ID': 2, 'car': 5, 'bus': 1, 'motorcycle': 0, 'truck': 0}\n"
     ]
    }
   ],
   "source": [
    "for i in analysis_2.find({'customer_ID':2}):\n",
    "    print(i)"
   ]
  },
  {
   "cell_type": "markdown",
   "metadata": {},
   "source": [
    "## Deleting the entry\n",
    "* It support both the delete one and delete many"
   ]
  },
  {
   "cell_type": "code",
   "execution_count": 23,
   "metadata": {},
   "outputs": [
    {
     "name": "stdout",
     "output_type": "stream",
     "text": [
      "{'_id': ObjectId('5eb914cd2f36aa17bae27f04'), 'date': '2020-05-11', 'time': '09:44:03.730630', 'type': 'car'}\n",
      "{'_id': ObjectId('5eb914cd2f36aa17bae27f05'), 'date': '2020-05-11', 'time': '09:44:20.197689', 'type': 'car'}\n",
      "{'_id': ObjectId('5eb914cd2f36aa17bae27f06'), 'date': '2020-05-11', 'time': '09:44:39.525202', 'type': 'truck'}\n",
      "{'_id': ObjectId('5eb914cd2f36aa17bae27f04'), 'date': '2020-05-11', 'time': '09:44:03.730630', 'type': 'car'}\n",
      "{'_id': ObjectId('5eb914cd2f36aa17bae27f05'), 'date': '2020-05-11', 'time': '09:44:20.197689', 'type': 'car'}\n"
     ]
    }
   ],
   "source": [
    "for i in analysis.find():\n",
    "    print(i)\n",
    "analysis.delete_one({'type':'truck'})"
   ]
  },
  {
   "cell_type": "code",
   "execution_count": 24,
   "metadata": {},
   "outputs": [
    {
     "name": "stdout",
     "output_type": "stream",
     "text": [
      "{'_id': ObjectId('5eb914cd2f36aa17bae27f04'), 'date': '2020-05-11', 'time': '09:44:03.730630', 'type': 'car'}\n",
      "{'_id': ObjectId('5eb914cd2f36aa17bae27f05'), 'date': '2020-05-11', 'time': '09:44:20.197689', 'type': 'car'}\n"
     ]
    }
   ],
   "source": [
    "for i in analysis.find():\n",
    "    print(i)"
   ]
  },
  {
   "cell_type": "markdown",
   "metadata": {},
   "source": [
    "## Deleting the collection"
   ]
  },
  {
   "cell_type": "code",
   "execution_count": 25,
   "metadata": {},
   "outputs": [],
   "source": [
    "analysis.drop()"
   ]
  },
  {
   "cell_type": "code",
   "execution_count": 26,
   "metadata": {},
   "outputs": [
    {
     "name": "stdout",
     "output_type": "stream",
     "text": [
      "{'name': 'analysis2', 'type': 'collection', 'options': {}, 'info': {'readOnly': False, 'uuid': UUID('7f804f7b-293d-466b-a403-271793d6bb78')}, 'idIndex': {'v': 2, 'key': {'_id': 1}, 'name': '_id_', 'ns': 'database.analysis2'}}\n",
      "{'name': 'profiles', 'type': 'collection', 'options': {}, 'info': {'readOnly': False, 'uuid': UUID('99318348-236f-4923-a392-02f216d4b944')}, 'idIndex': {'v': 2, 'key': {'_id': 1}, 'name': '_id_', 'ns': 'database.profiles'}}\n"
     ]
    }
   ],
   "source": [
    "x = analysis.find()\n",
    "for i in x:\n",
    "    print(type(i))\n",
    "for i in db.list_collections():\n",
    "    print(i)"
   ]
  },
  {
   "cell_type": "markdown",
   "metadata": {},
   "source": [
    "## Dropping the database"
   ]
  },
  {
   "cell_type": "code",
   "execution_count": 26,
   "metadata": {},
   "outputs": [],
   "source": [
    "client.drop_database(db)"
   ]
  },
  {
   "cell_type": "code",
   "execution_count": 27,
   "metadata": {},
   "outputs": [
    {
     "name": "stderr",
     "output_type": "stream",
     "text": [
      "/opt/anaconda3/lib/python3.7/site-packages/ipykernel_launcher.py:1: DeprecationWarning: database_names is deprecated. Use list_database_names instead.\n",
      "  \"\"\"Entry point for launching an IPython kernel.\n"
     ]
    },
    {
     "data": {
      "text/plain": [
       "['admin', 'config', 'local']"
      ]
     },
     "execution_count": 27,
     "metadata": {},
     "output_type": "execute_result"
    }
   ],
   "source": [
    "client.database_names()"
   ]
  },
  {
   "cell_type": "markdown",
   "metadata": {},
   "source": [
    "## Example"
   ]
  },
  {
   "cell_type": "code",
   "execution_count": 28,
   "metadata": {},
   "outputs": [],
   "source": [
    "import datetime\n",
    "def get_DT():\n",
    "    now = datetime.datetime.now()\n",
    "    date,time = str(now).split(\" \")\n",
    "    return str(date),str(time)"
   ]
  },
  {
   "cell_type": "code",
   "execution_count": 29,
   "metadata": {},
   "outputs": [],
   "source": [
    "#Connecting the database with server#\n",
    "client = MongoClient('localhost')\n",
    "#Creating the database instance#\n",
    "database = client['db']\n",
    "#Creating the collection (table) #\n",
    "vehicle_collection = database['vehicle_count']"
   ]
  },
  {
   "cell_type": "code",
   "execution_count": 30,
   "metadata": {},
   "outputs": [
    {
     "data": {
      "text/plain": [
       "<pymongo.results.InsertManyResult at 0x108039f00>"
      ]
     },
     "execution_count": 30,
     "metadata": {},
     "output_type": "execute_result"
    }
   ],
   "source": [
    "#Inserting the records#\n",
    "records = []\n",
    "records.append( {'customer_ID':1,'date':get_DT()[0],'time':get_DT()[1],'vehicle':'car'} )\n",
    "records.append( {'customer_ID':2,'date':get_DT()[0],'time':get_DT()[1],'vehicle':'bike'} )\n",
    "records.append( {'customer_ID':2,'date':get_DT()[0],'time':get_DT()[1],'vehicle':'car'} )\n",
    "records.append( {'customer_ID':1,'date':get_DT()[0],'time':get_DT()[1],'vehicle':'bike'} )\n",
    "vehicle_collection.insert_many(records)"
   ]
  },
  {
   "cell_type": "code",
   "execution_count": 31,
   "metadata": {},
   "outputs": [
    {
     "name": "stdout",
     "output_type": "stream",
     "text": [
      "{'_id': ObjectId('5eb94e3e2f36aa17bae27f11'), 'customer_ID': 1, 'date': '2020-05-11', 'time': '18:38:14.579191', 'vehicle': 'car'}\n",
      "{'_id': ObjectId('5eb94e3e2f36aa17bae27f12'), 'customer_ID': 2, 'date': '2020-05-11', 'time': '18:38:14.579240', 'vehicle': 'bike'}\n",
      "{'_id': ObjectId('5eb94e3e2f36aa17bae27f13'), 'customer_ID': 2, 'date': '2020-05-11', 'time': '18:38:14.579283', 'vehicle': 'car'}\n",
      "{'_id': ObjectId('5eb94e3e2f36aa17bae27f14'), 'customer_ID': 1, 'date': '2020-05-11', 'time': '18:38:14.579325', 'vehicle': 'bike'}\n"
     ]
    }
   ],
   "source": [
    "#Displaying the records\n",
    "for i in vehicle_collection.find():\n",
    "    print(i)"
   ]
  },
  {
   "cell_type": "code",
   "execution_count": null,
   "metadata": {},
   "outputs": [],
   "source": []
  }
 ],
 "metadata": {
  "kernelspec": {
   "display_name": "Python 3",
   "language": "python",
   "name": "python3"
  },
  "language_info": {
   "codemirror_mode": {
    "name": "ipython",
    "version": 3
   },
   "file_extension": ".py",
   "mimetype": "text/x-python",
   "name": "python",
   "nbconvert_exporter": "python",
   "pygments_lexer": "ipython3",
   "version": "3.7.6"
  }
 },
 "nbformat": 4,
 "nbformat_minor": 4
}
